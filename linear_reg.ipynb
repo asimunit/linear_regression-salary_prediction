{
 "cells": [
  {
   "cell_type": "code",
   "execution_count": 2,
   "metadata": {},
   "outputs": [],
   "source": [
    "import numpy as np\n",
    "import pandas as pd\n",
    "from sklearn.datasets import make_regression\n",
    "import matplotlib.pyplot as plt\n"
   ]
  },
  {
   "cell_type": "code",
   "execution_count": 3,
   "metadata": {},
   "outputs": [],
   "source": [
    "def hypo(theta ,x):\n",
    "    return x * theta[1] + theta[0]"
   ]
  },
  {
   "cell_type": "code",
   "execution_count": 4,
   "metadata": {},
   "outputs": [
    {
     "name": "stdout",
     "output_type": "stream",
     "text": [
      "[  0.           1.01010101   2.02020202   3.03030303   4.04040404\n",
      "   5.05050505   6.06060606   7.07070707   8.08080808   9.09090909\n",
      "  10.1010101   11.11111111  12.12121212  13.13131313  14.14141414\n",
      "  15.15151515  16.16161616  17.17171717  18.18181818  19.19191919\n",
      "  20.2020202   21.21212121  22.22222222  23.23232323  24.24242424\n",
      "  25.25252525  26.26262626  27.27272727  28.28282828  29.29292929\n",
      "  30.3030303   31.31313131  32.32323232  33.33333333  34.34343434\n",
      "  35.35353535  36.36363636  37.37373737  38.38383838  39.39393939\n",
      "  40.4040404   41.41414141  42.42424242  43.43434343  44.44444444\n",
      "  45.45454545  46.46464646  47.47474747  48.48484848  49.49494949\n",
      "  50.50505051  51.51515152  52.52525253  53.53535354  54.54545455\n",
      "  55.55555556  56.56565657  57.57575758  58.58585859  59.5959596\n",
      "  60.60606061  61.61616162  62.62626263  63.63636364  64.64646465\n",
      "  65.65656566  66.66666667  67.67676768  68.68686869  69.6969697\n",
      "  70.70707071  71.71717172  72.72727273  73.73737374  74.74747475\n",
      "  75.75757576  76.76767677  77.77777778  78.78787879  79.7979798\n",
      "  80.80808081  81.81818182  82.82828283  83.83838384  84.84848485\n",
      "  85.85858586  86.86868687  87.87878788  88.88888889  89.8989899\n",
      "  90.90909091  91.91919192  92.92929293  93.93939394  94.94949495\n",
      "  95.95959596  96.96969697  97.97979798  98.98989899 100.        ]\n"
     ]
    }
   ],
   "source": [
    "count=100\n",
    "X = np.linspace(0, 100, count)\n",
    "error = np.random.randint(-10,10,count)\n",
    "print(X)"
   ]
  },
  {
   "cell_type": "code",
   "execution_count": 5,
   "metadata": {},
   "outputs": [],
   "source": [
    "theta = np.array([1,1,])\n",
    "Y=hypo(theta,X) + error\n"
   ]
  },
  {
   "cell_type": "code",
   "execution_count": 6,
   "metadata": {},
   "outputs": [
    {
     "data": {
      "text/plain": [
       "<matplotlib.collections.PathCollection at 0x1d91d9a3860>"
      ]
     },
     "execution_count": 6,
     "metadata": {},
     "output_type": "execute_result"
    },
    {
     "data": {
      "image/png": "[encoded data removed]",
      "text/plain": [
       "<Figure size 432x288 with 1 Axes>"
      ]
     },
     "metadata": {
      "needs_background": "light"
     },
     "output_type": "display_data"
    }
   ],
   "source": [
    "plt.scatter(X,Y)"
   ]
  },
  {
   "cell_type": "markdown",
   "metadata": {},
   "source": [
    "# using sckit learn"
   ]
  },
  {
   "cell_type": "code",
   "execution_count": 7,
   "metadata": {},
   "outputs": [],
   "source": [
    "X,Y =make_regression(n_samples=100, n_features=1, n_informative=1, noise=5)"
   ]
  },
  {
   "cell_type": "code",
   "execution_count": 8,
   "metadata": {},
   "outputs": [
    {
     "name": "stdout",
     "output_type": "stream",
     "text": [
      "(100, 1)\n",
      "(100,)\n"
     ]
    },
    {
     "data": {
      "image/png": "[encoded data removed]",
      "text/plain": [
       "<Figure size 432x288 with 1 Axes>"
      ]
     },
     "metadata": {
      "needs_background": "light"
     },
     "output_type": "display_data"
    }
   ],
   "source": [
    "plt.scatter(X,Y)\n",
    "print(X.shape)\n",
    "print(Y.shape)"
   ]
  },
  {
   "cell_type": "code",
   "execution_count": 9,
   "metadata": {},
   "outputs": [],
   "source": [
    "def hypo(theta ,x):\n",
    "    return x* theta[1] + theta[0]\n",
    "\n",
    "def error(X,Y,theta):\n",
    "    Yh = hypo(theta ,X)\n",
    "    return np.sum((Y-Yh)**2)"
   ]
  },
  {
   "cell_type": "code",
   "execution_count": 10,
   "metadata": {},
   "outputs": [
    {
     "name": "stdout",
     "output_type": "stream",
     "text": [
      "22836237.1674455\n"
     ]
    }
   ],
   "source": [
    "theta = np.array([0,0])\n",
    "print(error(X,Y,theta))"
   ]
  },
  {
   "cell_type": "code",
   "execution_count": 11,
   "metadata": {},
   "outputs": [],
   "source": [
    "def grad_decent(X,Y,theta,lr):\n",
    "    Yh= hypo(theta ,X)\n",
    "    \n",
    "    Y=Y.reshape(-1,1)\n",
    "    \n",
    "    change_inter=np.sum((Y-Yh)* -1/X.shape[0])*lr\n",
    "    change_slop=np.sum((Y-Yh)* X/X.shape[0])*lr\n",
    "    \n",
    "    theta[0] =theta[0]-change_inter\n",
    "    theta[1] =theta[1]-change_slop\n",
    "    \n",
    "    e= error(X, Y, theta)\n",
    "    \n",
    "    return theta,e\n",
    "    \n",
    "    \n"
   ]
  },
  {
   "cell_type": "code",
   "execution_count": 164,
   "metadata": {},
   "outputs": [
    {
     "name": "stdout",
     "output_type": "stream",
     "text": [
      "[  0 -17]\n"
     ]
    }
   ],
   "source": [
    "theta ,e =grad_decent(X,Y,theta,.1)\n",
    "print(theta)\n"
   ]
  },
  {
   "cell_type": "code",
   "execution_count": null,
   "metadata": {},
   "outputs": [],
   "source": []
  },
  {
   "cell_type": "code",
   "execution_count": null,
   "metadata": {},
   "outputs": [],
   "source": []
  },
  {
   "cell_type": "code",
   "execution_count": null,
   "metadata": {},
   "outputs": [],
   "source": []
  }
 ],
 "metadata": {
  "kernelspec": {
   "display_name": "Python 3",
   "language": "python",
   "name": "python3"
  },
  "language_info": {
   "codemirror_mode": {
    "name": "ipython",
    "version": 3
   },
   "file_extension": ".py",
   "mimetype": "text/x-python",
   "name": "python",
   "nbconvert_exporter": "python",
   "pygments_lexer": "ipython3",
   "version": "3.7.1"
  }
 },
 "nbformat": 4,
 "nbformat_minor": 2
}
